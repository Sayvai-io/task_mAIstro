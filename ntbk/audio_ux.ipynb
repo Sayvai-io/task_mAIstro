{
 "cells": [
  {
   "cell_type": "markdown",
   "id": "b4cd66e8",
   "metadata": {},
   "source": [
    "# Audio UX\n",
    "\n",
    "Task mAIstro supports voice interactions using:\n",
    "- [OpenAI's Whisper](https://platform.openai.com/docs/guides/speech-to-text) for speech-to-text\n",
    "- [ElevenLabs](https://github.com/elevenlabs/elevenlabs-python) for text-to-speech\n",
    "\n",
    "### Install dependencies\n",
    "\n",
    "Ensure you have `ffmpeg` installed for using ElevenLabs. \n",
    "\n",
    "On MacOS, you can install it with `brew install ffmpeg`. "
   ]
  },
  {
   "cell_type": "code",
   "execution_count": 1,
   "id": "d1fd88e4",
   "metadata": {},
   "outputs": [],
   "source": [
    "%%capture --no-stderr\n",
    "%pip install -U langchain_openai langgraph langchain_core sounddevice scipy elevenlabs "
   ]
  },
  {
   "cell_type": "markdown",
   "id": "44b724c3",
   "metadata": {},
   "source": [
    "### Set environment variables\n",
    "\n",
    "* Set your `OPENAI_API_KEY`\n",
    "* Set your `ELEVENLABS_API_KEY` (available [here](https://elevenlabs.io/api))\n",
    "* Optional: Set your `LANGCHAIN_API_KEY` (available [here](https://smith.langchain.com/)) if you want tracing or want to connect with a hosted deployment."
   ]
  },
  {
   "cell_type": "code",
   "execution_count": 5,
   "id": "c7311ebb",
   "metadata": {},
   "outputs": [],
   "source": [
    "from dotenv import load_dotenv\n",
    "load_dotenv()\n",
    "import os"
   ]
  },
  {
   "cell_type": "markdown",
   "id": "45f5e99c-9c95-4ec9-a879-45cb80c76179",
   "metadata": {},
   "source": [
    "### Connect to your deployment\n",
    "\n",
    "Connect to your deployment using the URL endpoint:\n",
    "- **Studio**: Found in Studio UI \n",
    "- **CLI**: Printed to console (typically `http://localhost:8123`)\n",
    "- **Cloud**: Available in LangGraph Deployment page\n",
    "\n",
    "We'll connect to the deployment as a [RemoteGraph](https://langchain-ai.github.io/langgraph/how-tos/use-remote-graph/#how-to-interact-with-the-deployment-using-remotegraph). \n"
   ]
  },
  {
   "cell_type": "code",
   "execution_count": 15,
   "id": "b2bdfbed-694a-4dbc-8ddf-e2649ec28181",
   "metadata": {},
   "outputs": [],
   "source": [
    "from langgraph.pregel.remote import RemoteGraph\n",
    "from langchain_core.messages import convert_to_messages\n",
    "from langchain_core.messages import HumanMessage, SystemMessage, AIMessage\n",
    "\n",
    "# Local deployment (via LangGraph Studio)\n",
    "local_deployment_url = \"http://localhost:63557\"\n",
    "\n",
    "# Deployment URL\n",
    "cloud_deployment_url = \"https://task-maistro-1b681add7a2b549499bb0cd21a7e5be4.default.us.langgraph.app\"\n",
    "\n",
    "# Graph name\n",
    "graph_name = \"task_maistro\" \n",
    "\n",
    "# Connect to the deployment\n",
    "remote_graph = RemoteGraph(graph_name, url=local_deployment_url)"
   ]
  },
  {
   "cell_type": "markdown",
   "id": "1770e138",
   "metadata": {},
   "source": [
    "You can test your deployment by running the following. "
   ]
  },
  {
   "cell_type": "code",
   "execution_count": 5,
   "id": "62c16a2c",
   "metadata": {},
   "outputs": [
    {
     "name": "stdout",
     "output_type": "stream",
     "text": [
      "================================\u001b[1m Human Message \u001b[0m=================================\n",
      "\n",
      "Hi I'm Lance. I live in San Francisco with my wife and have a 1 year old.\n",
      "==================================\u001b[1m Ai Message \u001b[0m==================================\n",
      "Tool Calls:\n",
      "  UpdateMemory (call_ubXYV29olc4XYbbrD1khqtNU)\n",
      " Call ID: call_ubXYV29olc4XYbbrD1khqtNU\n",
      "  Args:\n",
      "    update_type: user\n",
      "=================================\u001b[1m Tool Message \u001b[0m=================================\n",
      "\n",
      "updated profile\n",
      "==================================\u001b[1m Ai Message \u001b[0m==================================\n",
      "\n",
      "Hi Lance! It's great to meet you. If there's anything specific you'd like help with, feel free to let me know!\n"
     ]
    }
   ],
   "source": [
    "# Int\n",
    "user_input = \"Hi I'm Lance. I live in San Francisco with my wife and have a 1 year old.\"\n",
    "config = {\"configurable\": {\"user_id\": \"Test-Deployment-User\"}}\n",
    "for chunk in remote_graph.stream({\"messages\": [HumanMessage(content=user_input)]}, stream_mode=\"values\", config=config):\n",
    "    convert_to_messages(chunk[\"messages\"])[-1].pretty_print()"
   ]
  },
  {
   "cell_type": "markdown",
   "id": "1169896f",
   "metadata": {},
   "source": [
    "### Add audio\n",
    "\n",
    "Our deployed graph has some benefits: \n",
    "* It has built-in support for long-term memory \n",
    "* It implements all the logic for task mAIstro \n",
    "\n",
    "But, we have a challenge:\n",
    "* It takes test as input and returns text as output\n",
    "\n",
    "We need to add audio input and output to the graph. So, we'll simply add two nodes to our graph:\n",
    "\n",
    "1. **Audio Input Node**\n",
    "   * Records microphone input (stop with Enter)\n",
    "   * Transcribes speech using Whisper\n",
    "   * Passes text to Task mAIstro\n",
    "\n",
    "2. **Audio Output Node**\n",
    "   * Takes Task mAIstro's text response\n",
    "   * Converts to speech via ElevenLabs\n",
    "   * Plays audio response\n",
    "\n",
    "We can achieve this by embedding our deployed graph [as a node](https://langchain-ai.github.io/langgraph/how-tos/use-remote-graph/#using-as-a-subgraph) in a new graph. "
   ]
  },
  {
   "cell_type": "code",
   "execution_count": 19,
   "id": "ea79d376-af11-4a85-af8e-9da2f8f1da2d",
   "metadata": {},
   "outputs": [
    {
     "data": {
      "image/png": "[encoded data removed]",
      "text/plain": [
       "<IPython.core.display.Image object>"
      ]
     },
     "metadata": {},
     "output_type": "display_data"
    }
   ],
   "source": [
    "import io\n",
    "import threading\n",
    "import numpy as np\n",
    "import sounddevice as sd\n",
    "from scipy.io.wavfile import write\n",
    "from IPython.display import Image, display\n",
    "\n",
    "from openai import OpenAI\n",
    "\n",
    "from elevenlabs import play, VoiceSettings\n",
    "from elevenlabs.client import ElevenLabs\n",
    "\n",
    "from langgraph.graph import StateGraph, MessagesState, END, START\n",
    "\n",
    "class AgentState(MessagesState):\n",
    "    next: str\n",
    "    input_method: str\n",
    "\n",
    "# Initialize OpenAI client\n",
    "openai_client = OpenAI()\n",
    "\n",
    "# Initialize ElevenLabs client\n",
    "elevenlabs_client = ElevenLabs(api_key=os.getenv(\"ELEVENLABS_API_KEY\"))\n",
    "\n",
    "def record_audio_until_stop(state: AgentState):\n",
    "\n",
    "    \"\"\"Records audio from the microphone until Enter is pressed, then saves it to a .wav file.\"\"\"\n",
    "    \n",
    "    audio_data = []  # List to store audio chunks\n",
    "    recording = True  # Flag to control recording\n",
    "    sample_rate = 16000 # (kHz) Adequate for human voice frequency\n",
    "\n",
    "    def record_audio():\n",
    "        \"\"\"Continuously records audio until the recording flag is set to False.\"\"\"\n",
    "        nonlocal audio_data, recording\n",
    "        with sd.InputStream(samplerate=sample_rate, channels=1, dtype='int16') as stream:\n",
    "            print(\"Recording your instruction! ... Press Enter to stop recording.\")\n",
    "            while recording:\n",
    "                audio_chunk, _ = stream.read(1024)  # Read audio data in chunks\n",
    "                audio_data.append(audio_chunk)\n",
    "\n",
    "    def stop_recording():\n",
    "        \"\"\"Waits for user input to stop the recording.\"\"\"\n",
    "        input()  # Wait for Enter key press\n",
    "        nonlocal recording\n",
    "        recording = False\n",
    "\n",
    "    # Start recording in a separate thread\n",
    "    recording_thread = threading.Thread(target=record_audio)\n",
    "    recording_thread.start()\n",
    "\n",
    "    # Start a thread to listen for the Enter key\n",
    "    stop_thread = threading.Thread(target=stop_recording)\n",
    "    stop_thread.start()\n",
    "\n",
    "    # Wait for both threads to complete\n",
    "    stop_thread.join()\n",
    "    recording_thread.join()\n",
    "\n",
    "    # Stack all audio chunks into a single NumPy array and write to file\n",
    "    audio_data = np.concatenate(audio_data, axis=0)\n",
    "    \n",
    "    # Convert to WAV format in-memory\n",
    "    audio_bytes = io.BytesIO()\n",
    "    write(audio_bytes, sample_rate, audio_data)  # Use scipy's write function to save to BytesIO\n",
    "    audio_bytes.seek(0)  # Go to the start of the BytesIO buffer\n",
    "    audio_bytes.name = \"audio.wav\" # Set a filename for the in-memory file\n",
    "\n",
    "    # Transcribe via Whisper\n",
    "    transcription = openai_client.audio.transcriptions.create(\n",
    "       model=\"whisper-1\", \n",
    "       file=audio_bytes,\n",
    "    )\n",
    "\n",
    "    # Print the transcription\n",
    "    print(\"Here is the transcription:\", transcription.text)\n",
    "\n",
    "    # Write to messages \n",
    "    return {\"messages\": [HumanMessage(content=transcription.text)]}\n",
    "\n",
    "def play_audio(state: AgentState):\n",
    "    \n",
    "    \"\"\"Plays the audio response from the remote graph with ElevenLabs.\"\"\"\n",
    "\n",
    "    # Response from the agent \n",
    "    response = state['messages'][-1]\n",
    "\n",
    "    # Prepare text by replacing ** with empty strings\n",
    "    # These can cause unexpected behavior in ElevenLabs\n",
    "    cleaned_text = response.content.replace(\"**\", \"\")\n",
    "    \n",
    "    # Call text_to_speech API with turbo model for low latency\n",
    "    response = elevenlabs_client.text_to_speech.convert(\n",
    "        voice_id=\"pNInz6obpgDQGcFmaJgB\", # Adam pre-made voice\n",
    "        output_format=\"mp3_22050_32\",\n",
    "        text=cleaned_text,\n",
    "        model_id=\"eleven_turbo_v2_5\", \n",
    "        voice_settings=VoiceSettings(\n",
    "            stability=0.0,\n",
    "            similarity_boost=1.0,\n",
    "            style=0.0,\n",
    "            use_speaker_boost=True,\n",
    "        ),\n",
    "    )\n",
    "    \n",
    "    # Play the audio back\n",
    "    play(response)\n",
    "\n",
    "def input_router(state: AgentState):\n",
    "    input_method = input(\"How would you like to provide input? (a/t):  'a' for audio, 't' for text \")\n",
    "    if input_method.lower() in ('a', 't'):\n",
    "        if input_method.lower() == 't':\n",
    "            user_message = input(\"human: \")\n",
    "            return {\"messages\": [HumanMessage(content=user_message)], \"next\": \"todo_app\", \"input_method\": input_method}\n",
    "        elif input_method.lower() == 'a':\n",
    "            return {\"next\": \"audio_input\", \"input_method\": input_method}\n",
    "    else:\n",
    "        return {\"messages\": [AIMessage(content=\"Invalid input. Please enter 'a' or 't'.\")], \"next\": END}\n",
    "\n",
    "def output_router(state: AgentState):\n",
    "    input_method = state['input_method']\n",
    "    if input_method.lower() == 'a':\n",
    "        return {\"next\": \"audio_output\"}\n",
    "    return {\"next\": END}\n",
    "\n",
    "# Define parent graph\n",
    "builder = StateGraph(MessagesState)\n",
    "\n",
    "# Add remote graph directly as a node\n",
    "builder.add_node(\"input_router\", input_router)\n",
    "builder.add_node(\"output_router\", output_router)\n",
    "builder.add_node(\"audio_input\", record_audio_until_stop)\n",
    "builder.add_node(\"todo_app\", remote_graph)\n",
    "builder.add_node(\"audio_output\", play_audio)\n",
    "builder.add_edge(START, \"input_router\")\n",
    "builder.add_conditional_edges(\"input_router\", \n",
    "                              lambda state: state[\"next\"], \n",
    "                              {\n",
    "                                  \"audio_input\": \"audio_input\",\n",
    "                                  \"todo_app\" : \"todo_app\",\n",
    "                                  \"__end__\": END\n",
    "                              })\n",
    "builder.add_edge(\"audio_input\", \"todo_app\")\n",
    "builder.add_edge(\"todo_app\", \"output_router\")\n",
    "builder.add_conditional_edges(\"output_router\",\n",
    "                              lambda state: state[\"next\"],\n",
    "                              {\n",
    "                                  \"audio_output\": \"audio_output\",\n",
    "                                  \"__end__\": END\n",
    "                              }\n",
    "                              )\n",
    "builder.add_edge(\"audio_output\",END)\n",
    "graph = builder.compile()\n",
    "\n",
    "display(Image(graph.get_graph(xray=1).draw_mermaid_png()))"
   ]
  },
  {
   "cell_type": "markdown",
   "id": "d5b16223",
   "metadata": {},
   "source": [
    "Optionally, you can supply a thread ID to ensure that conversation history is persisted. "
   ]
  },
  {
   "cell_type": "code",
   "execution_count": 9,
   "id": "1b7277b5",
   "metadata": {},
   "outputs": [],
   "source": [
    "import uuid\n",
    "thread_id = str(uuid.uuid4())"
   ]
  },
  {
   "cell_type": "markdown",
   "id": "297defe6",
   "metadata": {},
   "source": [
    "Simply, run this cell and speak into your microphone. When you are finished, press Enter."
   ]
  },
  {
   "cell_type": "code",
   "execution_count": 18,
   "id": "a18659da-1c49-48c1-8838-554f85b7876d",
   "metadata": {},
   "outputs": [
    {
     "name": "stdout",
     "output_type": "stream",
     "text": [
      "================================\u001b[1m Human Message \u001b[0m=================================\n",
      "\n",
      "Follow the user's instructions:\n",
      "==================================\u001b[1m Ai Message \u001b[0m==================================\n",
      "\n",
      "Invalid input. Please enter 'a' or 't'.\n"
     ]
    }
   ],
   "source": [
    "# Set user ID for storing memories\n",
    "config = {\"configurable\": {\"user_id\": \"Test-Audio-UX\", \"thread_id\": thread_id}}\n",
    "\n",
    "# Kick off the graph, which will record user input until the user presses Enter\n",
    "for chunk in graph.stream({\"messages\":HumanMessage(content=\"Follow the user's instructions:\")}, stream_mode=\"values\", config=config):\n",
    "    chunk[\"messages\"][-1].pretty_print()"
   ]
  },
  {
   "cell_type": "code",
   "execution_count": null,
   "id": "2e5532fe",
   "metadata": {},
   "outputs": [],
   "source": []
  }
 ],
 "metadata": {
  "kernelspec": {
   "display_name": "Python 3 (ipykernel)",
   "language": "python",
   "name": "python3"
  },
  "language_info": {
   "codemirror_mode": {
    "name": "ipython",
    "version": 3
   },
   "file_extension": ".py",
   "mimetype": "text/x-python",
   "name": "python",
   "nbconvert_exporter": "python",
   "pygments_lexer": "ipython3",
   "version": "3.11.9"
  }
 },
 "nbformat": 4,
 "nbformat_minor": 5
}
